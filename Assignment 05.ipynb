{
 "cells": [
  {
   "cell_type": "markdown",
   "metadata": {},
   "source": [
    "# Omphemetse Mangope \n",
    "\n",
    "Student No: 201532614    \n",
    "AML    \n",
    "Assignment 05: L2 regularized Polynomial Regression    \n",
    "Due Date: 12 June 2020"
   ]
  },
  {
   "cell_type": "code",
   "execution_count": 287,
   "metadata": {},
   "outputs": [],
   "source": [
    "import numpy as np\n",
    "import matplotlib.pyplot as plt\n",
    "from sklearn.preprocessing import scale\n",
    "from sklearn.model_selection import train_test_split"
   ]
  },
  {
   "cell_type": "markdown",
   "metadata": {},
   "source": [
    "# Design matrix function"
   ]
  },
  {
   "cell_type": "code",
   "execution_count": 288,
   "metadata": {},
   "outputs": [],
   "source": [
    "def designMatrix(x):\n",
    "    n = len(x)\n",
    "    X = np.c_[np.ones(n), x, x**2, x**3, x**4,x**5, x**6] # drafting a polynomial of degree 6\n",
    "    return(X) # returns design matrix"
   ]
  },
  {
   "cell_type": "markdown",
   "metadata": {},
   "source": [
    "# L2 regularization"
   ]
  },
  {
   "cell_type": "code",
   "execution_count": 289,
   "metadata": {},
   "outputs": [],
   "source": [
    "def L2_regularization(X, Y, λ):\n",
    "    I = np.eye(7) # We take to be 7 because we have a polynomial of 7 term but the degree 6 \n",
    "    I[0,0] = 0 # We make the first term to 0, because  \n",
    "    theta = np.linalg.inv((X.T.dot(X) + λ * I)).dot(X.T).dot(Y) # ridge regression \n",
    "    return(theta) # returns theta"
   ]
  },
  {
   "cell_type": "markdown",
   "metadata": {},
   "source": [
    "# Data "
   ]
  },
  {
   "cell_type": "code",
   "execution_count": 290,
   "metadata": {},
   "outputs": [],
   "source": [
    "#λ = np.linspace(0, 400,200)\n",
    "#λ = 23\n",
    "x = scale(np.linspace(0, 400,200)) # data generation\n",
    "x = designMatrix(x) # feed generated data to design matrix \n",
    "\n",
    "y = scale(np.linspace(0, 400, 200)) # y value"
   ]
  },
  {
   "cell_type": "markdown",
   "metadata": {},
   "source": [
    "# Cross-Valiation"
   ]
  },
  {
   "cell_type": "code",
   "execution_count": 291,
   "metadata": {},
   "outputs": [],
   "source": [
    "x_train,x_test,y_train, y_test = train_test_split(x,y, test_size=.25) # Cross validation"
   ]
  },
  {
   "cell_type": "code",
   "execution_count": 292,
   "metadata": {},
   "outputs": [],
   "source": [
    "θ = L2_regularization(x_train, y_train, λ) #equate ridge regression to theta since it estimates theta vaues"
   ]
  },
  {
   "cell_type": "code",
   "execution_count": 293,
   "metadata": {},
   "outputs": [],
   "source": [
    "Epochs = 1500\n",
    "\n",
    "\n",
    "def MSE(x_test,y_test,θ,Epochs):\n",
    "    costs = []\n",
    "    λ_values = []\n",
    "    \n",
    "   # λ = np.linspace(0,400,200)\n",
    "    MSE = 0\n",
    "   \n",
    "    n = len(x_test)\n",
    "    \n",
    "    for λ in np.linspace(0,400,200):\n",
    "        \n",
    "        # \n",
    "        for i in range(n):\n",
    "            y_pred = θ[0] + θ[1]*x_test + θ[2]*x_test**2 + θ[3]*x_test**3 + θ[4]*x_test**4 + θ[5]*x_test**5 + θ[6]*x_test**6\n",
    "            MSE += (y_test[i] - y_pred) ** 2\n",
    "            costs.append(MSE)\n",
    "            Lambda = MSE + λ * sum(θ)**2\n",
    "            λ_values.append(Lambda)\n",
    "            \n",
    "    \n",
    "    return(MSE,Lambda) "
   ]
  },
  {
   "cell_type": "markdown",
   "metadata": {},
   "source": [
    "# Finding optimal values of lambda and MSEs"
   ]
  },
  {
   "cell_type": "code",
   "execution_count": 294,
   "metadata": {},
   "outputs": [],
   "source": [
    "MSE_test,Lambda_test = MSE(x_test,y_test,θ,Epochs)\n",
    "MSE_test = MSE_test[-1]\n",
    "Lambda_test = Lambda_test[-1]\n",
    "Lambda_max = max(MSE_test) \n",
    "Lambda_min_max_test = min(MSE_test),max(MSE_test)\n",
    "\n",
    "\n",
    "MSE_train, Lambda_train = MSE(x_train,y_train,θ,Epochs)\n",
    "MSE_train = MSE_train[-1]\n",
    "Lambda_train = Lambda_train[-1]\n",
    "Lambda_max = max(MSE_train)\n",
    "Lambda_min_max_train = min(MSE_train),max(MSE_train)"
   ]
  },
  {
   "cell_type": "markdown",
   "metadata": {},
   "source": [
    "# Plotting lambda against MSE"
   ]
  },
  {
   "cell_type": "code",
   "execution_count": 303,
   "metadata": {},
   "outputs": [
    {
     "data": {
      "image/png": "[encoded data removed]",
      "text/plain": [
       "<Figure size 1080x432 with 1 Axes>"
      ]
     },
     "metadata": {
      "needs_background": "light"
     },
     "output_type": "display_data"
    }
   ],
   "source": [
    "plt.figure(figsize=(15,6))\n",
    "plt.title('Lambda vs MSE')\n",
    "plt.xlabel('number of iterations')\n",
    "plt.ylabel('cost')\n",
    "plt.plot(Lambda_test, MSE_test,'-',color='r')\n",
    "plt.plot(Lambda_train, MSE_train,'*', color='b')\n",
    "plt.plot(x,y,'o', color='g')\n",
    "plt.show()"
   ]
  },
  {
   "cell_type": "code",
   "execution_count": null,
   "metadata": {},
   "outputs": [],
   "source": []
  }
 ],
 "metadata": {
  "kernelspec": {
   "display_name": "Python 3",
   "language": "python",
   "name": "python3"
  },
  "language_info": {
   "codemirror_mode": {
    "name": "ipython",
    "version": 3
   },
   "file_extension": ".py",
   "mimetype": "text/x-python",
   "name": "python",
   "nbconvert_exporter": "python",
   "pygments_lexer": "ipython3",
   "version": "3.7.4"
  }
 },
 "nbformat": 4,
 "nbformat_minor": 2
}
